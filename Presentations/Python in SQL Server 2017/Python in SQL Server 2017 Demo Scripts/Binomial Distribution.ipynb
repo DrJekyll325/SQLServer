{
 "cells": [
  {
   "cell_type": "code",
   "execution_count": null,
   "metadata": {
    "collapsed": true
   },
   "outputs": [],
   "source": [
    "import matplotlib.pyplot as plt\n",
    "import numpy as np\n",
    "import pandas as pd\n",
    "import plotly.plotly as ply\n",
    "\n",
    "from scipy.stats import binom"
   ]
  },
  {
   "cell_type": "code",
   "execution_count": null,
   "metadata": {
    "collapsed": true
   },
   "outputs": [],
   "source": [
    "?binom"
   ]
  },
  {
   "cell_type": "code",
   "execution_count": null,
   "metadata": {
    "scrolled": true
   },
   "outputs": [],
   "source": [
    "# Toss one fair coin five times, and count the number of heads\n",
    "r = binom.rvs(n = 1, p = 0.50, size = 5)\n",
    "print(r)"
   ]
  },
  {
   "cell_type": "code",
   "execution_count": null,
   "metadata": {},
   "outputs": [],
   "source": [
    "# Toss ten fair coins twenty times and count the number of heads\n",
    "r = binom.rvs(n = 10, p = 0.50, size = 20)\n",
    "print(r)"
   ]
  },
  {
   "cell_type": "code",
   "execution_count": null,
   "metadata": {},
   "outputs": [],
   "source": [
    "# Toss ten fair coins 1000 times and count the number of heads\n",
    "r = binom.rvs(n = 10, p = 0.50, size = 1000)\n",
    "print(r)"
   ]
  },
  {
   "cell_type": "code",
   "execution_count": null,
   "metadata": {},
   "outputs": [],
   "source": [
    "# Histogram of 10,000 Tosses Of 10 Fair Coins\n",
    "r = binom.rvs(n = 10, p = 0.50, size = 10000)\n",
    "\n",
    "plt.hist(r, bins = 10, facecolor = \"red\", alpha = 1, linestyle = \"dashed\")\n",
    "plt.title(\"10,000 Tosses Of 10 Fair Coins\")\n",
    "plt.xlabel(\"Number Of Heads\")\n",
    "plt.show()"
   ]
  },
  {
   "cell_type": "code",
   "execution_count": null,
   "metadata": {},
   "outputs": [],
   "source": [
    "# Histogram of 10,000 Tosses Of 10 Unfair Coins (p = 0.70)\n",
    "r = binom.rvs(n = 10, p = 0.70, size = 10000)\n",
    "\n",
    "plt.hist(r, bins = 10, facecolor = \"red\", alpha = 1)\n",
    "plt.title(\"10,000 Tosses Of 10 Unfair Coins\")\n",
    "plt.xlabel(\"Number Of Heads\")\n",
    "plt.show()"
   ]
  },
  {
   "cell_type": "code",
   "execution_count": null,
   "metadata": {},
   "outputs": [],
   "source": [
    "# Modeling Dr. McCoy's Distribution\n",
    "r = binom.rvs(n = 16, p = 1.0000 - 0.1027, size = 10000)\n",
    "\n",
    "plt.hist(r, bins = 9, facecolor = \"red\", alpha = 1)\n",
    "plt.title(\"10,000 Days for Dr. McCoy\")\n",
    "plt.xlabel(\"Number Of Arrivals\")\n",
    "plt.show()"
   ]
  },
  {
   "cell_type": "markdown",
   "metadata": {},
   "source": [
    "\n",
    "\n",
    "Exact Percentages:"
   ]
  },
  {
   "cell_type": "code",
   "execution_count": null,
   "metadata": {},
   "outputs": [],
   "source": [
    "# What percentage of the time will exactly 15 out of Dr. McCoy's 16 patients show up for their appointment?\n",
    "print(binom.pmf(k = 15, n = 16, p = 1.0000 - 0.1027))"
   ]
  },
  {
   "cell_type": "code",
   "execution_count": null,
   "metadata": {},
   "outputs": [],
   "source": [
    "# What are the complete percentages for Dr. McCoy?\n",
    "print(binom.pmf(k = np.arange(16, -1, -1), n = 16, p = 1.0000 - 0.1027))"
   ]
  },
  {
   "cell_type": "code",
   "execution_count": null,
   "metadata": {},
   "outputs": [],
   "source": [
    "# Are 16/16 people really going to show up over 17% of the time?\n",
    "print((1.0000 - 0.1027) ** 16)"
   ]
  },
  {
   "cell_type": "markdown",
   "metadata": {},
   "source": [
    "\n",
    "\n",
    "Range percentages:"
   ]
  },
  {
   "cell_type": "code",
   "execution_count": null,
   "metadata": {},
   "outputs": [],
   "source": [
    "# What is the probability that 13 or fewer 16 patients show up?\n",
    "print(binom.cdf(k = 13, n = 16, p = 1.0000 - 0.1027))"
   ]
  },
  {
   "cell_type": "code",
   "execution_count": null,
   "metadata": {},
   "outputs": [],
   "source": [
    "# What is the probability that more than 13 patients show up?\n",
    "#pbinom(q = 14, size = 16, prob = 1.0000 - 0.1068, lower.tail = FALSE);\n",
    "print(1 - binom.cdf(k = 13, n = 16, p = 1.0000 - 0.1027))"
   ]
  },
  {
   "cell_type": "code",
   "execution_count": null,
   "metadata": {},
   "outputs": [],
   "source": [
    "# Quantile probabilities\n",
    "\n",
    "# How many people will show up on the 90th percentile of Dr. McCoy's distribution?\n",
    "# This is because We don't want to have more patients than slots more than 10% of days.\n",
    "print(binom.ppf(q = 0.90, n = 16, p = 1.0000 - 0.1027))\n",
    "\n",
    "# Another way of thinking about this is that if we allowed even one overbook slot for Dr. McCoy,\n",
    "# then we would have more patients than slots on nearly 19% of days."
   ]
  },
  {
   "cell_type": "markdown",
   "metadata": {},
   "source": [
    "\n",
    "\n",
    "Let's look at Family Medicine Instead."
   ]
  },
  {
   "cell_type": "code",
   "execution_count": null,
   "metadata": {
    "collapsed": true
   },
   "outputs": [],
   "source": [
    "# What are the complete percentages for Dr. Quinn?\n",
    "print(binom.pmf(k = np.arange(32, -1, -1), n = 32, p = 1.0000 - 0.2600))"
   ]
  },
  {
   "cell_type": "code",
   "execution_count": null,
   "metadata": {
    "collapsed": true
   },
   "outputs": [],
   "source": [
    "# Modeling Dr. Quinn's Distribution\n",
    "r = binom.rvs(n = 32, p = 1.0000 - 0.2600, size = 10000)\n",
    "\n",
    "plt.hist(r, bins = 33, facecolor = \"red\", alpha = 1)\n",
    "plt.title(\"10,000 Days for Dr. Quinn\")\n",
    "plt.xlabel(\"Number Of Arrivals\")\n",
    "plt.show()"
   ]
  },
  {
   "cell_type": "code",
   "execution_count": null,
   "metadata": {
    "collapsed": true
   },
   "outputs": [],
   "source": [
    "# How many people will show up on the 90th percentile of Dr. Quinn's distribution?\n",
    "print(binom.ppf(q = 0.90, n = 32, p = 1.0000 - 0.2600))\n",
    "\n",
    "# So we can fairly safely (90%) overbook five slots for Dr. Quinn.\n",
    "# Another way of thinking about this is that if we fill all five overbook slots every day,\n",
    "# we will only have too many patients on 10% of the days."
   ]
  },
  {
   "cell_type": "code",
   "execution_count": null,
   "metadata": {
    "collapsed": true
   },
   "outputs": [],
   "source": []
  }
 ],
 "metadata": {
  "kernelspec": {
   "display_name": "Python 3",
   "language": "python",
   "name": "python3"
  },
  "language_info": {
   "codemirror_mode": {
    "name": "ipython",
    "version": 3
   },
   "file_extension": ".py",
   "mimetype": "text/x-python",
   "name": "python",
   "nbconvert_exporter": "python",
   "pygments_lexer": "ipython3",
   "version": "3.5.2"
  }
 },
 "nbformat": 4,
 "nbformat_minor": 2
}
