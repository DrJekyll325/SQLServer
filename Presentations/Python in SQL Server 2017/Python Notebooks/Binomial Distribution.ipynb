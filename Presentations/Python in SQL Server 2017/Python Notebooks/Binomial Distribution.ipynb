{
 "cells": [
  {
   "cell_type": "code",
   "execution_count": 2,
   "metadata": {
    "collapsed": true
   },
   "outputs": [],
   "source": [
    "import matplotlib.pyplot as plt\n",
    "import numpy as np\n",
    "import pandas as pd\n",
    "import plotly.plotly as ply\n",
    "\n",
    "from scipy.stats import binom"
   ]
  },
  {
   "cell_type": "code",
   "execution_count": 3,
   "metadata": {
    "collapsed": true
   },
   "outputs": [],
   "source": [
    "?binom"
   ]
  },
  {
   "cell_type": "code",
   "execution_count": 4,
   "metadata": {
    "scrolled": true
   },
   "outputs": [
    {
     "name": "stdout",
     "output_type": "stream",
     "text": [
      "[0 1 1 1 0]\n"
     ]
    }
   ],
   "source": [
    "# Toss one fair coin five times, and count the number of heads\n",
    "r = binom.rvs(n = 1, p = 0.50, size = 5)\n",
    "print(r)"
   ]
  },
  {
   "cell_type": "code",
   "execution_count": 5,
   "metadata": {},
   "outputs": [
    {
     "name": "stdout",
     "output_type": "stream",
     "text": [
      "[6 5 6 3 7 7 5 4 5 4 3 4 2 6 6 6 6 6 4 6]\n"
     ]
    }
   ],
   "source": [
    "# Toss ten fair coins twenty times and count the number of heads\n",
    "r = binom.rvs(n = 10, p = 0.50, size = 20)\n",
    "print(r)"
   ]
  },
  {
   "cell_type": "code",
   "execution_count": 6,
   "metadata": {},
   "outputs": [
    {
     "name": "stdout",
     "output_type": "stream",
     "text": [
      "[ 4  3  4  7  8  4  6  8  4  5  3  4  4  5  4  4  3  7  5  3  4  6  5  4  6\n",
      "  5  4  6  6  3  6  3  1  3  6  4  4  7  4  2  5  5  4  6  5  3  8  3  6  4\n",
      "  6  6  4  7  7  8  6  3  5  5  4  4  3  3  7  2  4  7  3  7  4  3  5  4  5\n",
      "  6  6  6  6  3  5  5  6  7  5  5  6  8  2  5  5  4  4  5  7  5  3  4  8  2\n",
      "  4  6  7  7  5  3  6  6  3  4  2  5  5  5  5  6  5  2  6  3  8  4  5  5  8\n",
      "  3  4  5  4  8  5  6  6  5  7  5  6  4  2  7  3  7  4  4  3  4  2  4  6  7\n",
      "  3  7  5  5  5  4  6  8  5  5  6  4  4  4  4  1  7  5  7  3  6  7  5  4  8\n",
      "  5  4  6  7  3  4  5  4  5  6  4  5  3  7  5  2  5  4  5  3  5  5  2  9  7\n",
      "  5  6  2  6  5  2  5  6  8  4  3  7  6  7  2  3  7  4  6  6  4  4  3  4  5\n",
      "  3  3  3  7  5  6  4  6  6 10  5  3  7  5  4  5  4  3  3  6  4  4  6  5  4\n",
      "  5  6  4  6  5  9  6  3  5  6  3  3  7  5  6  3  6  6  6  4  6  5  8  8  8\n",
      "  3  4  6  5  5  5  5  6  5  6  4  6  6  6  4  4  5  4  5  6  3  6  5  6  5\n",
      "  7  5  5  6  5  6  5  5  4  2  6  3  4  4  5  5  4  5  2  5  5  6  4  4  6\n",
      "  5  6  5  3  6  6  2  6  6  3  5  3  5  5  7  1  6  6  5  5  6  4  6  4  4\n",
      "  4  6  5  5  7  4  4  4  6  4  4  4  7  3  6  5  7  5  5  6  5  5  5  4  7\n",
      "  4  7  4  8  4  5  4  5  6  4  4  1  5  3  4  5  6  4  5  6  5  6  5  3  3\n",
      "  4  5  4  3  7  4  8  2  1  7  6  5  8  4  4  6  3  4  5  5  3  5  4  3  6\n",
      "  5  8  6  5  2  5  6  4  5  8  5  2  7  7  7  2  5  3  5  2 10  3  5  6  4\n",
      "  5  3  7  4  6  5  7  5  7  6  5  6  2  4  3  7  5  4  6  5  2  5  6  5  6\n",
      "  6  4  6  7  8  6  7  5  7  5  6  5  5  2  4  6  6  6  5  6  6  5  5  5  3\n",
      "  6  4  6  3  3  7  7  4  3  4  6  4  7  4  4  6  4  6  7  7  2  7  2  5  8\n",
      "  7  6  7  4  6  5  6  3  7  5  6  7  3  5  4  3  4  3  5  6  5  4  5  6  4\n",
      "  4  5  5  7  5  5  5  7  6  6  4  7  4  6  6  5  7  3  6  6  5  7  4  3  4\n",
      "  2  6  5  7  3  9  8  2  4  6  4  3  8  5  6  3  5  5  7  5  6  5  7  5  3\n",
      "  4  5  7  4  8  6  8  6  3  5  5  3  6  8  6  3  6  2  5  3  4  4  6  6  4\n",
      "  6  4  5  4  2  4  5  5  5  6  7  5  3  5  4  2  6  5  3  6  5  1  6  5  6\n",
      "  4  6  5  4  6  5  7  5  8  6  9  7  5  3  6  5  3  4  5  7  3  7  4  9  6\n",
      "  4  2  4  6  5  5  4  6  5  3  6  6  5  4  6  4  5  6  3  5  4  5  5  7  4\n",
      "  4  5  5  5  7  8  5  6  7  6  4  5  7  2  4  3  5  4  4  3  7  6  8  6  6\n",
      "  5  4  3  5  5  8  7  6  7  5  4  3  4  8  4  2  4  8  5  3  5  6  6  4  5\n",
      "  4  5  6  6  7  5  2  5  6  8  5  7  8  3  4  7  7  6  4  4  4  7  4  7  5\n",
      "  6  6  6  6  4  3  4  7  6  6  7  6  6  6  2  4  5  7  7  4  5  6  8  5  6\n",
      "  6  4  4  6  5  5  6  5  5  4  5  7  5  8  5  6  5  4  4  5  2  5  7  4  6\n",
      "  6  9  7  7  5  8  8  6  4  4  5  1  9  3  4  7  5  5  5  4  4  2  4  5  4\n",
      "  3  5  6  7  8  3  7  7  8  7  6  5  5  8  7  5  4  5  7  5  3  7  7  4  4\n",
      "  4  4  7  6  4  8  7  5  6  3  6  6  5  5  6  4  6  5  5  4  2  3  5  5  4\n",
      "  6  4  6  6  5  4  6  6  4  5  5  4  5  7  5  4  3  4  5  2  3  8  6  4  8\n",
      "  7  5  5  6  5  6  4  3  3  5  5  7  6  6  4  6  4  5  3  5  7  3  4  5  6\n",
      "  4  3  3  7  6  5  7  4  4  3  3  3  4  3  2  5  7  7  6  5  4  0  3  3  5\n",
      "  8  5  5  6  5  8  3  4  6  5  5  6  4  4  5  4  5  5  5  5  5  7  6  6  4]\n"
     ]
    }
   ],
   "source": [
    "# Toss ten fair coins 1000 times and count the number of heads\n",
    "r = binom.rvs(n = 10, p = 0.50, size = 1000)\n",
    "print(r)"
   ]
  },
  {
   "cell_type": "code",
   "execution_count": 7,
   "metadata": {},
   "outputs": [
    {
     "data": {
      "image/png": "[encoded data removed]",
      "text/plain": [
       "<matplotlib.figure.Figure at 0x1fd0d0b4e0>"
      ]
     },
     "metadata": {},
     "output_type": "display_data"
    }
   ],
   "source": [
    "# Histogram of 10,000 Tosses Of 10 Fair Coins\n",
    "r = binom.rvs(n = 10, p = 0.50, size = 10000)\n",
    "\n",
    "plt.hist(r, bins = 10, facecolor = \"red\", alpha = 1, linestyle = \"dashed\")\n",
    "plt.title(\"10,000 Tosses Of 10 Fair Coins\")\n",
    "plt.xlabel(\"Number Of Heads\")\n",
    "plt.show()"
   ]
  },
  {
   "cell_type": "code",
   "execution_count": 8,
   "metadata": {},
   "outputs": [
    {
     "data": {
      "image/png": "[encoded data removed]",
      "text/plain": [
       "<matplotlib.figure.Figure at 0x1fd0cf1c18>"
      ]
     },
     "metadata": {},
     "output_type": "display_data"
    }
   ],
   "source": [
    "# Histogram of 10,000 Tosses Of 10 Unfair Coins (p = 0.70)\n",
    "r = binom.rvs(n = 10, p = 0.70, size = 10000)\n",
    "\n",
    "plt.hist(r, bins = 10, facecolor = \"red\", alpha = 1)\n",
    "plt.title(\"10,000 Tosses Of 10 Unfair Coins\")\n",
    "plt.xlabel(\"Number Of Heads\")\n",
    "plt.show()"
   ]
  },
  {
   "cell_type": "code",
   "execution_count": 9,
   "metadata": {},
   "outputs": [
    {
     "data": {
      "image/png": "[encoded data removed]",
      "text/plain": [
       "<matplotlib.figure.Figure at 0x1fd0ae1eb8>"
      ]
     },
     "metadata": {},
     "output_type": "display_data"
    }
   ],
   "source": [
    "# Modeling Dr. McCoy's Distribution\n",
    "r = binom.rvs(n = 16, p = 1.0000 - 0.1049, size = 10000)\n",
    "\n",
    "plt.hist(r, bins = 9, facecolor = \"red\", alpha = 1)\n",
    "plt.title(\"10,000 Days for Dr. McCoy\")\n",
    "plt.xlabel(\"Number Of Arrivals\")\n",
    "plt.show()"
   ]
  },
  {
   "cell_type": "markdown",
   "metadata": {},
   "source": [
    "\n",
    "\n",
    "Exact Percentages:"
   ]
  },
  {
   "cell_type": "code",
   "execution_count": 10,
   "metadata": {},
   "outputs": [
    {
     "name": "stdout",
     "output_type": "stream",
     "text": [
      "0.318396897874\n"
     ]
    }
   ],
   "source": [
    "# What percentage of the time will exactly 15 out of Dr. McCoy's 16 patients show up for their appointment?\n",
    "print(binom.pmf(k = 15, n = 16, p = 1.0000 - 0.1049))"
   ]
  },
  {
   "cell_type": "code",
   "execution_count": 11,
   "metadata": {},
   "outputs": [
    {
     "name": "stdout",
     "output_type": "stream",
     "text": [
      "[  1.69802826e-01   3.18396898e-01   2.79855613e-01   1.53054018e-01\n",
      "   5.82950966e-02   1.63963507e-02   3.52283713e-03   5.89791428e-04\n",
      "   7.77597596e-05   8.10039726e-06   6.64520356e-07   4.24786578e-08\n",
      "   2.07426135e-09   7.47969769e-11   1.87837022e-12   2.93510649e-14\n",
      "   2.14984828e-16]\n"
     ]
    }
   ],
   "source": [
    "# What are the complete percentages for Dr. McCoy?\n",
    "print(binom.pmf(k = np.arange(16, -1, -1), n = 16, p = 1.0000 - 0.1049))"
   ]
  },
  {
   "cell_type": "code",
   "execution_count": 12,
   "metadata": {},
   "outputs": [
    {
     "name": "stdout",
     "output_type": "stream",
     "text": [
      "0.1698028260764018\n"
     ]
    }
   ],
   "source": [
    "# Are 16/16 people really going to show up nearly 17% of the time?\n",
    "print((1.0000 - 0.1049) ** 16)"
   ]
  },
  {
   "cell_type": "markdown",
   "metadata": {},
   "source": [
    "\n",
    "\n",
    "Range percentages:"
   ]
  },
  {
   "cell_type": "code",
   "execution_count": 13,
   "metadata": {},
   "outputs": [
    {
     "name": "stdout",
     "output_type": "stream",
     "text": [
      "0.23194466282\n"
     ]
    }
   ],
   "source": [
    "# What is the probability that 13 or fewer 16 patients show up?\n",
    "print(binom.cdf(k = 13, n = 16, p = 1.0000 - 0.1049))"
   ]
  },
  {
   "cell_type": "code",
   "execution_count": 14,
   "metadata": {},
   "outputs": [
    {
     "name": "stdout",
     "output_type": "stream",
     "text": [
      "0.76805533718\n"
     ]
    }
   ],
   "source": [
    "# What is the probability that more than 13 patients show up?\n",
    "print(1 - binom.cdf(k = 13, n = 16, p = 1.0000 - 0.1049))"
   ]
  },
  {
   "cell_type": "code",
   "execution_count": 15,
   "metadata": {},
   "outputs": [
    {
     "name": "stdout",
     "output_type": "stream",
     "text": [
      "16.0\n"
     ]
    }
   ],
   "source": [
    "# Quantile probabilities\n",
    "\n",
    "# How many people will show up on the 90th percentile of Dr. McCoy's distribution?\n",
    "# This is because We don't want to have more patients than slots more than 10% of days.\n",
    "print(binom.ppf(q = 0.90, n = 16, p = 1.0000 - 0.1049))\n",
    "\n",
    "# Another way of thinking about this is that if we allowed even one overbook slot for Dr. McCoy,\n",
    "# then we would have more patients than slots on nearly 17% of days."
   ]
  },
  {
   "cell_type": "markdown",
   "metadata": {},
   "source": [
    "\n",
    "\n",
    "Let's look at Family Medicine Instead."
   ]
  },
  {
   "cell_type": "code",
   "execution_count": 16,
   "metadata": {},
   "outputs": [
    {
     "name": "stdout",
     "output_type": "stream",
     "text": [
      "[  1.06629679e-04   1.12890661e-03   5.78921458e-03   1.91535633e-02\n",
      "   4.59428064e-02   8.51207578e-02   1.26729560e-01   1.55733904e-01\n",
      "   1.61013810e-01   1.42056723e-01   1.08098473e-01   7.15285613e-02\n",
      "   4.14140280e-02   2.10796817e-02   9.46497668e-03   3.75777461e-03\n",
      "   1.32095980e-03   4.11330198e-04   1.13406849e-04   2.76467223e-05\n",
      "   5.94548025e-06   1.12403239e-06   1.85942542e-07   2.67473562e-08\n",
      "   3.31850184e-09   3.51335452e-10   3.12951185e-11   2.30088027e-12\n",
      "   1.35936451e-13   6.20337240e-15   2.05238006e-16   4.38082619e-18\n",
      "   4.52935100e-20]\n"
     ]
    }
   ],
   "source": [
    "# What are the complete percentages for Dr. Quinn?\n",
    "print(binom.pmf(k = np.arange(32, -1, -1), n = 32, p = 1.0000 - 0.2486))"
   ]
  },
  {
   "cell_type": "code",
   "execution_count": 17,
   "metadata": {},
   "outputs": [
    {
     "data": {
      "image/png": "[encoded data removed]",
      "text/plain": [
       "<matplotlib.figure.Figure at 0x1fd0c09828>"
      ]
     },
     "metadata": {},
     "output_type": "display_data"
    }
   ],
   "source": [
    "# Modeling Dr. Quinn's Distribution\n",
    "r = binom.rvs(n = 32, p = 1.0000 - 0.2486, size = 10000)\n",
    "\n",
    "plt.hist(r, bins = 33, facecolor = \"red\", alpha = 1)\n",
    "plt.title(\"10,000 Days for Dr. Quinn\")\n",
    "plt.xlabel(\"Number Of Arrivals\")\n",
    "plt.show()"
   ]
  },
  {
   "cell_type": "code",
   "execution_count": 18,
   "metadata": {},
   "outputs": [
    {
     "name": "stdout",
     "output_type": "stream",
     "text": [
      "27.0\n"
     ]
    }
   ],
   "source": [
    "# How many people will show up on the 90th percentile of Dr. Quinn's distribution?\n",
    "print(binom.ppf(q = 0.90, n = 32, p = 1.0000 - 0.2486))\n",
    "\n",
    "# So we can fairly safely (90%) overbook five slots for Dr. Quinn.\n",
    "# Another way of thinking about this is that if we fill all five overbook slots every day,\n",
    "# we will only have too many patients on 10% of the days."
   ]
  },
  {
   "cell_type": "code",
   "execution_count": null,
   "metadata": {
    "collapsed": true
   },
   "outputs": [],
   "source": []
  },
  {
   "cell_type": "code",
   "execution_count": null,
   "metadata": {
    "collapsed": true
   },
   "outputs": [],
   "source": []
  }
 ],
 "metadata": {
  "kernelspec": {
   "display_name": "Python 3",
   "language": "python",
   "name": "python3"
  },
  "language_info": {
   "codemirror_mode": {
    "name": "ipython",
    "version": 3
   },
   "file_extension": ".py",
   "mimetype": "text/x-python",
   "name": "python",
   "nbconvert_exporter": "python",
   "pygments_lexer": "ipython3",
   "version": "3.5.2"
  }
 },
 "nbformat": 4,
 "nbformat_minor": 2
}
