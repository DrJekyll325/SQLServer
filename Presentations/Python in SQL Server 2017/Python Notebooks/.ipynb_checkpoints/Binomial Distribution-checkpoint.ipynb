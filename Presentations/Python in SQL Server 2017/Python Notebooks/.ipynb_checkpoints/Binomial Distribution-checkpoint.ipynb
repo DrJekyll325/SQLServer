{
 "cells": [
  {
   "cell_type": "code",
   "execution_count": 16,
   "metadata": {
    "collapsed": true
   },
   "outputs": [],
   "source": [
    "import matplotlib.pyplot as plt\n",
    "import numpy as np\n",
    "import pandas as pd\n",
    "import plotly.plotly as ply\n",
    "\n",
    "from scipy.stats import binom"
   ]
  },
  {
   "cell_type": "code",
   "execution_count": 17,
   "metadata": {
    "collapsed": true
   },
   "outputs": [],
   "source": [
    "?binom"
   ]
  },
  {
   "cell_type": "code",
   "execution_count": 18,
   "metadata": {
    "scrolled": true
   },
   "outputs": [
    {
     "name": "stdout",
     "output_type": "stream",
     "text": [
      "[1 1 0 1 0]\n"
     ]
    }
   ],
   "source": [
    "# Toss one fair coin five times, and count the number of heads\n",
    "r = binom.rvs(n = 1, p = 0.50, size = 5)\n",
    "print(r)"
   ]
  },
  {
   "cell_type": "code",
   "execution_count": 19,
   "metadata": {},
   "outputs": [
    {
     "name": "stdout",
     "output_type": "stream",
     "text": [
      "[3 4 5 7 6 2 4 6 3 4 2 5 4 5 6 6 4 7 5 5]\n"
     ]
    }
   ],
   "source": [
    "# Toss ten fair coins twenty times and count the number of heads\n",
    "r = binom.rvs(n = 10, p = 0.50, size = 20)\n",
    "print(r)"
   ]
  },
  {
   "cell_type": "code",
   "execution_count": 20,
   "metadata": {},
   "outputs": [
    {
     "name": "stdout",
     "output_type": "stream",
     "text": [
      "[7 5 5 4 6 4 3 6 5 6 2 3 2 4 5 8 4 5 6 2 4 6 3 6 6 3 4 6 5 3 6 5 8 5 7 4 5\n",
      " 5 5 6 8 4 7 4 3 7 5 4 5 6 4 4 7 5 5 5 4 4 4 6 6 5 3 4 3 5 7 5 7 6 4 5 2 7\n",
      " 6 6 7 4 6 5 5 5 6 5 5 4 2 4 6 5 8 5 8 5 6 5 4 3 5 5 6 5 3 7 5 4 5 4 7 2 5\n",
      " 4 5 2 5 7 4 3 5 4 1 5 5 5 6 2 5 4 6 8 8 4 3 6 5 3 4 4 6 5 6 5 3 5 1 4 7 7\n",
      " 4 7 5 3 7 5 4 3 5 6 4 5 6 5 6 7 4 4 6 4 4 5 3 4 4 7 6 9 6 5 7 3 5 2 5 5 3\n",
      " 6 4 5 6 5 7 4 6 6 4 8 8 7 6 4 3 7 7 3 4 5 7 5 4 4 8 6 3 4 4 3 3 4 3 2 4 3\n",
      " 2 7 7 4 5 7 5 6 4 5 7 3 7 4 4 5 3 6 5 5 2 5 6 2 5 7 5 5 4 7 8 7 6 1 4 6 6\n",
      " 7 5 5 6 4 5 6 6 3 6 7 5 6 2 8 4 8 1 6 4 3 4 6 5 6 5 7 6 5 6 1 6 6 4 7 5 6\n",
      " 4 5 6 6 4 2 6 6 5 6 4 4 9 5 3 5 4 5 4 6 6 6 4 5 5 5 6 5 5 5 4 4 5 4 8 7 6\n",
      " 6 2 7 7 6 6 6 9 5 5 2 7 2 4 4 6 5 6 4 3 5 3 7 4 5 4 5 4 6 5 4 4 7 4 4 7 1\n",
      " 4 4 6 6 4 4 8 5 6 7 9 6 4 7 1 4 4 3 4 5 3 8 3 4 7 8 4 7 3 3 6 2 6 5 6 6 4\n",
      " 7 3 5 8 3 4 7 4 3 7 6 5 7 6 5 3 4 5 4 5 7 4 6 5 9 6 7 7 3 6 6 5 3 5 4 3 6\n",
      " 7 6 7 5 3 2 6 1 6 7 6 5 4 5 2 7 5 6 2 3 6 6 5 5 8 5 4 5 4 4 7 7 7 6 6 5 3\n",
      " 7 4 3 2 3 4 4 4 4 5 5 6 5 3 7 3 6 3 4 3 5 2 5 7 5 5 7 4 5 4 6 5 5 5 5 8 4\n",
      " 6 5 7 6 5 4 4 8 5 4 4 9 5 5 5 4 6 6 6 4 5 3 6 2 4 5 3 7 5 4 4 4 6 5 6 8 4\n",
      " 6 5 5 7 6 5 4 6 9 5 3 8 5 7 5 4 6 3 5 6 5 8 5 8 3 4 7 4 7 6 5 5 4 4 6 7 6\n",
      " 4 5 7 5 5 4 5 8 4 4 7 2 4 5 6 5 5 6 5 5 7 4 5 4 6 7 6 6 4 5 5 6 4 9 5 7 3\n",
      " 5 8 3 8 6 3 6 4 6 4 7 2 4 7 4 4 7 6 8 6 4 7 5 4 5 5 5 3 6 3 5 2 6 5 5 5 5\n",
      " 3 4 5 5 4 4 5 7 6 4 6 4 7 5 5 5 3 4 6 4 6 7 5 4 6 4 2 4 4 4 7 6 4 7 7 3 3\n",
      " 5 7 4 4 6 7 4 3 5 7 4 6 3 5 6 5 2 5 6 7 7 6 3 5 6 6 7 5 4 6 5 6 4 5 5 2 3\n",
      " 5 3 5 4 4 2 4 5 5 5 5 2 4 7 4 4 4 5 5 5 5 7 4 3 6 2 3 5 5 3 5 8 7 6 5 8 5\n",
      " 3 6 6 4 8 6 5 5 5 7 5 4 8 5 7 3 4 5 7 5 6 6 5 6 3 6 2 5 8 5 5 4 7 5 4 3 4\n",
      " 7 3 4 4 8 4 7 5 5 5 5 4 7 5 3 5 8 4 4 6 5 4 4 6 8 4 5 4 3 5 3 6 5 3 8 6 5\n",
      " 3 4 4 3 7 4 5 6 6 5 1 8 2 7 6 7 6 6 5 4 3 6 5 4 7 7 4 5 5 5 6 5 4 5 3 5 8\n",
      " 6 4 5 3 6 3 3 6 7 3 9 5 6 4 3 8 3 6 6 8 6 6 4 3 6 5 6 6 3 5 6 4 4 4 7 4 6\n",
      " 4 5 8 6 5 5 6 5 4 6 3 6 6 6 5 4 8 4 7 4 6 3 4 5 4 6 4 4 7 5 3 4 4 3 4 7 6\n",
      " 3 7 4 1 7 5 6 3 4 4 5 4 5 5 8 6 4 8 6 8 5 6 5 5 4 6 6 5 4 6 6 5 6 5 5 5 3\n",
      " 4]\n"
     ]
    }
   ],
   "source": [
    "# Toss ten fair coins 1000 times and count the number of heads\n",
    "r = binom.rvs(n = 10, p = 0.50, size = 1000)\n",
    "print(r)"
   ]
  },
  {
   "cell_type": "code",
   "execution_count": 21,
   "metadata": {},
   "outputs": [
    {
     "data": {
      "image/png": "[encoded data removed]",
      "text/plain": [
       "<matplotlib.figure.Figure at 0x70be1a7cc0>"
      ]
     },
     "metadata": {},
     "output_type": "display_data"
    }
   ],
   "source": [
    "# Histogram of 10,000 Tosses Of 10 Fair Coins\n",
    "r = binom.rvs(n = 10, p = 0.50, size = 10000)\n",
    "\n",
    "plt.hist(r, bins = 10, facecolor = \"red\", alpha = 1, linestyle = \"dashed\")\n",
    "plt.title(\"10,000 Tosses Of 10 Fair Coins\")\n",
    "plt.xlabel(\"Number Of Heads\")\n",
    "plt.show()"
   ]
  },
  {
   "cell_type": "code",
   "execution_count": 22,
   "metadata": {},
   "outputs": [
    {
     "data": {
      "image/png": "[encoded data removed]",
      "text/plain": [
       "<matplotlib.figure.Figure at 0x70b9b84a90>"
      ]
     },
     "metadata": {},
     "output_type": "display_data"
    }
   ],
   "source": [
    "# Histogram of 10,000 Tosses Of 10 Unfair Coins (p = 0.70)\n",
    "r = binom.rvs(n = 10, p = 0.70, size = 10000)\n",
    "\n",
    "plt.hist(r, bins = 10, facecolor = \"red\", alpha = 1)\n",
    "plt.title(\"10,000 Tosses Of 10 Unfair Coins\")\n",
    "plt.xlabel(\"Number Of Heads\")\n",
    "plt.show()"
   ]
  },
  {
   "cell_type": "code",
   "execution_count": 23,
   "metadata": {},
   "outputs": [
    {
     "data": {
      "image/png": "[encoded data removed]",
      "text/plain": [
       "<matplotlib.figure.Figure at 0x70b9b84908>"
      ]
     },
     "metadata": {},
     "output_type": "display_data"
    }
   ],
   "source": [
    "# Modeling Dr. McCoy's Distribution\n",
    "r = binom.rvs(n = 16, p = 1.0000 - 0.1013, size = 10000)\n",
    "\n",
    "plt.hist(r, bins = 9, facecolor = \"red\", alpha = 1)\n",
    "plt.title(\"10,000 Days for Dr. McCoy\")\n",
    "plt.xlabel(\"Number Of Arrivals\")\n",
    "plt.show()"
   ]
  },
  {
   "cell_type": "markdown",
   "metadata": {},
   "source": [
    "\n",
    "\n",
    "Exact Percentages:"
   ]
  },
  {
   "cell_type": "code",
   "execution_count": 1,
   "metadata": {},
   "outputs": [
    {
     "ename": "NameError",
     "evalue": "name 'binom' is not defined",
     "output_type": "error",
     "traceback": [
      "\u001b[1;31m---------------------------------------------------------------------------\u001b[0m",
      "\u001b[1;31mNameError\u001b[0m                                 Traceback (most recent call last)",
      "\u001b[1;32m<ipython-input-1-0bc883babcfc>\u001b[0m in \u001b[0;36m<module>\u001b[1;34m()\u001b[0m\n\u001b[0;32m      1\u001b[0m \u001b[1;31m# What percentage of the time will exactly 15 out of Dr. McCoy's 16 patients show up for their appointment?\u001b[0m\u001b[1;33m\u001b[0m\u001b[1;33m\u001b[0m\u001b[0m\n\u001b[1;32m----> 2\u001b[1;33m \u001b[0mprint\u001b[0m\u001b[1;33m(\u001b[0m\u001b[0mbinom\u001b[0m\u001b[1;33m.\u001b[0m\u001b[0mpmf\u001b[0m\u001b[1;33m(\u001b[0m\u001b[0mk\u001b[0m \u001b[1;33m=\u001b[0m \u001b[1;36m15\u001b[0m\u001b[1;33m,\u001b[0m \u001b[0mn\u001b[0m \u001b[1;33m=\u001b[0m \u001b[1;36m16\u001b[0m\u001b[1;33m,\u001b[0m \u001b[0mp\u001b[0m \u001b[1;33m=\u001b[0m \u001b[1;36m1.0000\u001b[0m \u001b[1;33m-\u001b[0m \u001b[1;36m0.1013\u001b[0m\u001b[1;33m)\u001b[0m\u001b[1;33m)\u001b[0m\u001b[1;33m\u001b[0m\u001b[0m\n\u001b[0m",
      "\u001b[1;31mNameError\u001b[0m: name 'binom' is not defined"
     ]
    }
   ],
   "source": [
    "# What percentage of the time will exactly 15 out of Dr. McCoy's 16 patients show up for their appointment?\n",
    "print(binom.pmf(k = 15, n = 16, p = 1.0000 - 0.1013))"
   ]
  },
  {
   "cell_type": "code",
   "execution_count": 25,
   "metadata": {},
   "outputs": [
    {
     "name": "stdout",
     "output_type": "stream",
     "text": [
      "[  1.76604874e-01   3.23411488e-01   2.77619189e-01   1.48282206e-01\n",
      "   5.51575764e-02   1.51512754e-02   3.17924066e-03   5.19826170e-04\n",
      "   6.69334850e-05   6.80963276e-06   5.45575057e-07   3.40600945e-08\n",
      "   1.62430426e-09   5.72027354e-11   1.40295193e-12   2.14098835e-14\n",
      "   1.53153560e-16]\n"
     ]
    }
   ],
   "source": [
    "# What are the complete percentages for Dr. McCoy?\n",
    "print(binom.pmf(k = np.arange(16, -1, -1), n = 16, p = 1.0000 - 0.1013))"
   ]
  },
  {
   "cell_type": "code",
   "execution_count": 2,
   "metadata": {},
   "outputs": [
    {
     "name": "stdout",
     "output_type": "stream",
     "text": [
      "0.18106556620489922\n"
     ]
    }
   ],
   "source": [
    "# Are 16/16 people really going to show up over 18% of the time?\n",
    "print((1.0000 - 0.1013) ** 16)"
   ]
  },
  {
   "cell_type": "markdown",
   "metadata": {},
   "source": [
    "\n",
    "\n",
    "Range percentages:"
   ]
  },
  {
   "cell_type": "code",
   "execution_count": 27,
   "metadata": {},
   "outputs": [
    {
     "name": "stdout",
     "output_type": "stream",
     "text": [
      "0.222364449154\n"
     ]
    }
   ],
   "source": [
    "# What is the probability that 13 or fewer 16 patients show up?\n",
    "print(binom.cdf(k = 13, n = 16, p = 1.0000 - 0.1013))"
   ]
  },
  {
   "cell_type": "code",
   "execution_count": 28,
   "metadata": {},
   "outputs": [
    {
     "name": "stdout",
     "output_type": "stream",
     "text": [
      "0.777635550846\n"
     ]
    }
   ],
   "source": [
    "# What is the probability that more than 13 patients show up?\n",
    "#pbinom(q = 14, size = 16, prob = 1.0000 - 0.1068, lower.tail = FALSE);\n",
    "print(1 - binom.cdf(k = 13, n = 16, p = 1.0000 - 0.1013))"
   ]
  },
  {
   "cell_type": "code",
   "execution_count": 29,
   "metadata": {},
   "outputs": [
    {
     "name": "stdout",
     "output_type": "stream",
     "text": [
      "16.0\n"
     ]
    }
   ],
   "source": [
    "# Quantile probabilities\n",
    "\n",
    "# How many people will show up on the 90th percentile of Dr. McCoy's distribution?\n",
    "# This is because We don't want to have more patients than slots more than 10% of days.\n",
    "print(binom.ppf(q = 0.90, n = 16, p = 1.0000 - 0.1013))\n",
    "\n",
    "# Another way of thinking about this is that if we allowed even one overbook slot for Dr. McCoy,\n",
    "# then we would have more patients than slots on nearly 19% of days."
   ]
  },
  {
   "cell_type": "markdown",
   "metadata": {},
   "source": [
    "\n",
    "\n",
    "Let's look at Family Medicine Instead."
   ]
  },
  {
   "cell_type": "code",
   "execution_count": 30,
   "metadata": {},
   "outputs": [
    {
     "name": "stdout",
     "output_type": "stream",
     "text": [
      "[  6.53755012e-05   7.35032662e-04   4.00294815e-03   1.40644124e-02\n",
      "   3.58262397e-02   7.04905473e-02   1.11451271e-01   1.45446060e-01\n",
      "   1.59695843e-01   1.49624934e-01   1.20913122e-01   8.49659778e-02\n",
      "   5.22425944e-02   2.82392402e-02   1.34654292e-02   5.67731610e-03\n",
      "   2.11940348e-03   7.00852025e-04   2.05204422e-04   5.31254690e-05\n",
      "   1.21327085e-05   2.43591058e-06   4.27930237e-07   6.53712466e-08\n",
      "   8.61310343e-09   9.68392170e-10   9.16046647e-11   7.15231616e-12\n",
      "   4.48745705e-13   2.17472290e-14   7.64091828e-16   1.73203030e-17\n",
      "   1.90172246e-19]\n"
     ]
    }
   ],
   "source": [
    "# What are the complete percentages for Dr. Quinn?\n",
    "print(binom.pmf(k = np.arange(32, -1, -1), n = 32, p = 1.0000 - 0.2606))"
   ]
  },
  {
   "cell_type": "code",
   "execution_count": 31,
   "metadata": {},
   "outputs": [
    {
     "data": {
      "image/png": "[encoded data removed]",
      "text/plain": [
       "<matplotlib.figure.Figure at 0x70b9b84748>"
      ]
     },
     "metadata": {},
     "output_type": "display_data"
    }
   ],
   "source": [
    "# Modeling Dr. Quinn's Distribution\n",
    "r = binom.rvs(n = 32, p = 1.0000 - 0.2606, size = 10000)\n",
    "\n",
    "plt.hist(r, bins = 33, facecolor = \"red\", alpha = 1)\n",
    "plt.title(\"10,000 Days for Dr. Quinn\")\n",
    "plt.xlabel(\"Number Of Arrivals\")\n",
    "plt.show()"
   ]
  },
  {
   "cell_type": "code",
   "execution_count": 32,
   "metadata": {},
   "outputs": [
    {
     "name": "stdout",
     "output_type": "stream",
     "text": [
      "27.0\n"
     ]
    }
   ],
   "source": [
    "# How many people will show up on the 90th percentile of Dr. Quinn's distribution?\n",
    "print(binom.ppf(q = 0.90, n = 32, p = 1.0000 - 0.2606))\n",
    "\n",
    "# So we can fairly safely (90%) overbook five slots for Dr. Quinn.\n",
    "# Another way of thinking about this is that if we fill all five overbook slots every day,\n",
    "# we will only have too many patients on 10% of the days."
   ]
  },
  {
   "cell_type": "code",
   "execution_count": null,
   "metadata": {
    "collapsed": true
   },
   "outputs": [],
   "source": []
  }
 ],
 "metadata": {
  "kernelspec": {
   "display_name": "Python 3",
   "language": "python",
   "name": "python3"
  },
  "language_info": {
   "codemirror_mode": {
    "name": "ipython",
    "version": 3
   },
   "file_extension": ".py",
   "mimetype": "text/x-python",
   "name": "python",
   "nbconvert_exporter": "python",
   "pygments_lexer": "ipython3",
   "version": "3.5.2"
  }
 },
 "nbformat": 4,
 "nbformat_minor": 2
}
